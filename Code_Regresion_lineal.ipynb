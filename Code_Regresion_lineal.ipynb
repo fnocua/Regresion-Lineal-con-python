{
 "cells": [
  {
   "cell_type": "markdown",
   "id": "290b509d-25c2-4514-a9ab-026445d20388",
   "metadata": {},
   "source": [
    "# Introducción\n",
    "\n",
    "Implementación de Regresión Lineal: Una Guía Paso a Paso\n",
    "Introducción Este documento detalla el proceso de implementación de un modelo de regresión lineal simple. La regresión lineal es una técnica estadística utilizada para modelar la relación entre una variable dependiente (y) y una o más variables independientes (X).\n",
    "\n",
    "# Pasos a Seguir\n",
    "\n",
    "1. Definición de Funciones:\n",
    "\n",
    "    * Funcion de graficación: Función de Graficación: Visualiza los datos en un diagrama de dispersión para identificar patrones y tendencias.\n",
    "    * Función de Escalado: Normaliza los datos restando la media y dividiendo por la desviación estándar para mejorar el rendimiento del algoritmo de optimización.\n",
    "    * Función del Modelo Lineal: Define la ecuación del modelo lineal: y = mx + b, donde m es la pendiente y b es la intersección con el eje y.\n",
    "    * Función de Costo: Calcula el error cuadrático medio (MSE) entre las predicciones del modelo y los valores reales.\n",
    "    * Función de Gradiente: Calcula la derivada parcial de la función de costo con respecto a los parámetros (m y b), necesaria para el descenso del gradiente.\n",
    "\n",
    "2. Carga de Datos:\n",
    "\n",
    "    * Carga los datos desde un archivo (CSV, Excel, etc.) en formato numérico.\n",
    "    * Separa los datos en características (X) y etiquetas (y).\n",
    "\n",
    "3. Escalado de Datos:\n",
    "   * Aplica la funcion de escalado a las caracteristicas (X).\n",
    "\n",
    "4. Inicializacion de Parémetros:\n",
    "\n",
    "    * Inicializa aleatoriamente los valores de la pendiente (m) y la intersección (b)\n",
    "\n",
    "5. Definición de Hyperparametros:\n",
    "\n",
    "    * Establece el valor del coeficiente de aprendizaje (alpha) que contro el tamaño de los pasos en el descenso del gradiente.\n",
    "\n",
    "6. Definicion de hiperparámetros:\n",
    "    \n",
    "    * Establece el valor del coeficiente de aprendizaje (alpha) que contro el tamaño de los pasos en el descenso del gradiente.\n",
    "\n",
    "    * Define el número maximo de iteraciones\n",
    "\n",
    "6. Entrenamiento del gradiente: Repite los siguinetes pasos durante un número máximo de iteraciones\n",
    "    * Calculas la prediccion del modelo.\n",
    "    * Calculo el error utilizando la funcion de costo\n",
    "    * Actualiza los parametros utilizando la siguinete formula:\n",
    "         m = m - alpha * gradiente_m\n",
    "         b = b - alpha * gradiente_b\n",
    "\n",
    "8. Monitoreo del Error:\n",
    "\n",
    "    * Grafica el error de entrenamiento en cada iteración para visualizar la convergencia del modelo.\n",
    "\n",
    "9. Predicción: \n",
    "\n",
    "* Utiliza el modelo entrenado para realizar predicciones sobre nuevos datos.\n",
    "* Escalado: Si los nuevos datos no han sido escalados, es necesario aplicar el mismo escalado utilizado durante el entrenamiento.\n",
    "\n",
    " \n",
    "10. Evaluación del Modelo:\n",
    "Calcula métricas como el error cuadrático medio (MSE), la raíz cuadrada del error cuadrático medio (RMSE) y el coeficiente de determinación (R²) para evaluar el rendimiento del modelo.   \n",
    "Visualización:\n",
    "\n",
    "Grafica las predicciones del modelo junto con los datos reales para visualizar el ajuste del modelo.\n",
    "Consideraciones Adicionales:\n",
    "\n",
    "\n",
    "La regresion lineal por el modelo de regularizacion se estara implementando en el proximo codigo."
   ]
  },
  {
   "cell_type": "code",
   "execution_count": 2,
   "id": "5618e325-73cd-4a52-9bcf-99b28782eb8e",
   "metadata": {},
   "outputs": [],
   "source": [
    "# Se importan las librerias  \n",
    "import numpy as np \n",
    "import matplotlib.pyplot as plt \n",
    "import math"
   ]
  },
  {
   "cell_type": "markdown",
   "id": "d44dff66-2f04-4e93-9650-3c33bf2cb9ca",
   "metadata": {},
   "source": [
    "# Definición de Funciones"
   ]
  },
  {
   "cell_type": "code",
   "execution_count": 4,
   "id": "dd3e3932-305e-4bab-87bc-e757363ebb4f",
   "metadata": {},
   "outputs": [],
   "source": [
    "#Funcion para graficar cada una de las caracteristias (feactures) con la variable y o target. \n",
    "#Entradas: \n",
    "#    n      :Número total de caracteristicas en el dataset  \n",
    "#    x[i,j] :Matriz de características con dimensiones (m,n), donde m es el número de muestras y n el número de características.\n",
    "#    y[i]   :Vector de la variable objetivo con dimensión (m,). \n",
    "#salida: \n",
    "#    Una figura con n subplots, cada uno mostrando la relación entre una característica y la variable objetivo.  \n",
    "#\"\"\"\n",
    "def plot_datos(n,x,y):\n",
    "    u = 1\n",
    "    o = 4\n",
    "    fig,ax = plt.subplots(u,o,figsize=(12,3),sharey=True)\n",
    "\n",
    "    for j in range(n):\n",
    "        ax[j].scatter(x[:,j],y,s=30,c='r',marker='o')\n",
    "        ax[j].set_xlabel(f'x[{j}]')\n",
    "        ax[j].set_ylabel('y')\n",
    "    plt.show()\n",
    "#\"\"\""
   ]
  },
  {
   "cell_type": "code",
   "execution_count": 6,
   "id": "437c81e9-0efa-42db-8836-973f08201af3",
   "metadata": {},
   "outputs": [],
   "source": [
    "#funcion que realiza el escalado de funciones. Los datos deben ser ingresados en 2D, en el caso de que sean\n",
    "#vectores se aconceja que se rescalen a (m,1) para las dos variables \n",
    "\n",
    "#Entradas: \n",
    "#    n     : Número total de caracteristicas en el dataset  \n",
    "#    x[i,j]: Matriz de características (m, n).\n",
    "#Salidas: \n",
    "#    x[i,j]:  Matriz de características escaladas.\n",
    "#    media: parametro de la media de los datos con las que fue entrenado \n",
    "#    desv: desviacion estandar con la que fue entrenado \n",
    "#\"\"\"\n",
    "def scaling_features(n,x):\n",
    "    media = np.mean(x,axis=0) # Se calcula la media de cada una de las caracteristicas \n",
    "    desv  = np.std(x,axis=0)  # Se calcula la desviasion estandar de cada una de las variables \n",
    "    for j in range(n):\n",
    "        x[:,j] = (x[:,j] - media[j])/desv[j]\n",
    "\n",
    "    return x, media, desv\n",
    "#\"\"\""
   ]
  },
  {
   "cell_type": "code",
   "execution_count": 8,
   "id": "5430c75e-67de-4308-86e9-32ed7de1ba9e",
   "metadata": {},
   "outputs": [],
   "source": [
    "#\"\"\"\n",
    "#funcion de hypotesis o modelo. \n",
    "# forward propagation \n",
    "#entradas: \n",
    "#    w -> vector de parametros \n",
    "#    [w0, w1, w2, ... wn] -> vector(n)\n",
    "#    b -> valor escalar \n",
    "#\n",
    "#    x -> entradas de los datos o vector de la matriz \n",
    "#    [x11, x12 , ....  X1n\n",
    "#     X21, X22, .......X2n\n",
    "#           ...\n",
    "#           ...\n",
    "#           ...\n",
    "#     Xm1, Xm2, ...... Xmn]\n",
    "#        matriz (m,n)\n",
    "#    Salidas:\n",
    "#        model f_wb(x) = x*w^T + b\n",
    "#        f_wb = [f_wb1 f_wb2 ... f_wbm ] -> vector (m)\n",
    "#\"\"\"\n",
    "def forward(x,b,w):\n",
    "    \"\"\"\n",
    "    calculo la salida del modelo lineal para un conjunto de datos \n",
    "\n",
    "    Args: \n",
    "        x: Matriz de caracteristicas (m,n) \n",
    "        b: valor de intercepción escalar \n",
    "        w: Vector de peros (n,)\n",
    "    Returns: \n",
    "        f_wb: Vector de predicciones del modelo (m,)\n",
    "    \"\"\"\n",
    "    f_wb = x @ w + b\n",
    "    return f_wb"
   ]
  },
  {
   "cell_type": "code",
   "execution_count": 10,
   "id": "86ed694f-ceda-48e5-bace-0524f8a26909",
   "metadata": {},
   "outputs": [],
   "source": [
    "'''# funcion de coste\n",
    "entradas:\n",
    "      m -> numero de filas\n",
    "      f_wb -> vector que representa las prediccion del modelo con los parametros dados\n",
    "              vector (m,1)\n",
    "      yi   -> valor de verdad de los datos o target\n",
    "              vector (m,1)\n",
    "salida:\n",
    "      cost -> funcion de costo '''\n",
    "\n",
    "def cost_fuction(m,f_wb,yi):\n",
    "    '''\n",
    "    Calcula la funcion de costo. \n",
    "    Args: \n",
    "        f_wb: valores de predicción (m,)\n",
    "        yi: Tipo de funcion de costo (mse erro cuadratico medio)\n",
    "    Returns \n",
    "        Cost:Valor de la funcion de costo \n",
    "    '''\n",
    "    dif = (f_wb - yi)**2\n",
    "    suma = np.sum(dif)\n",
    "    cost = suma/(2*m)\n",
    "    return cost"
   ]
  },
  {
   "cell_type": "code",
   "execution_count": 17,
   "id": "ab1a46f8-e1af-46ec-a2e6-c2679c7f1ba5",
   "metadata": {},
   "outputs": [],
   "source": [
    "#'''\n",
    "# calculo del gradiente de error\n",
    "#entradas:\n",
    "#  m    -> numero de datos de entrenamiento  escalar\n",
    "#  n    -> numero de caracteristicas\n",
    "#  f_wb -> vector de predicciones con w y x  vector(m,1)\n",
    "#  yi   -> Target o valores verdaderos    vector (m,1)\n",
    "#  xi    -> datos de entrenamiento matriz (m,n)\n",
    "\n",
    "#salida:\n",
    "#  d_dw -> vector de gradiente del parametro w vector(1,n)\n",
    "#  d_db -> escalar del gradiente del parametro b escalar\n",
    "#'''\n",
    "def gradiente(m,n,f_wb,yi,xi):\n",
    "    \"\"\"\n",
    "    Calcula el gradiente de la funcion de costo.\n",
    "\n",
    "    Args: \n",
    "        X: Matriz de caracteristicas (m,n). \n",
    "        yi: Valores reales (m,)\n",
    "        f_wb: predicciones del modelo (m,)\n",
    "    Returns: \n",
    "        dw: gradiente de los pesos (n,)\n",
    "        db: gradiente del sesgo\n",
    "    \"\"\"\n",
    "    d_dw = np.zeros(n)\n",
    "  #\n",
    "    dif = f_wb-yi\n",
    "    d_dw=np.dot(xi.T,dif)\n",
    "  #\n",
    "    d_db = np.sum(dif)/m\n",
    "    d_dw = d_dw/m\n",
    "  #\n",
    "    return d_dw,d_db"
   ]
  },
  {
   "cell_type": "markdown",
   "id": "5dc3c7c8-b91c-4478-8cdc-dbd23b847150",
   "metadata": {},
   "source": [
    "# Carga de Datos"
   ]
  },
  {
   "cell_type": "code",
   "execution_count": 20,
   "id": "1bea9dde-c69f-4b76-b14b-f4f352e01944",
   "metadata": {},
   "outputs": [
    {
     "name": "stdout",
     "output_type": "stream",
     "text": [
      "Tamaño de los datos: (3, 4)\n"
     ]
    }
   ],
   "source": [
    "#x = np.array([121, 123, 108, 108, 111, 109, 114, 103, 110, 115])\n",
    "#y = np.array([25, 22, 19, 24, 19, 18, 20, 15, 20, 21])\n",
    "\n",
    "x = np.array([[2104, 5 , 1 , 45], [1416, 3, 2, 40],[852, 2, 1, 35]])\n",
    "y = np.array([460 , 232, 178])\n",
    "\n",
    "# tamaño de los datos \n",
    "dimension = x.ndim\n",
    "if dimension<2:\n",
    "    m = len(x)\n",
    "    n = 1\n",
    "else: \n",
    "    m,n = x.shape\n",
    "\n",
    "print(f'Tamaño de los datos: {(m,n)}')"
   ]
  },
  {
   "cell_type": "markdown",
   "id": "9c43fb4e-4405-4779-bf77-ea2b3147566e",
   "metadata": {},
   "source": [
    "# Escalado de Datos"
   ]
  },
  {
   "cell_type": "code",
   "execution_count": 22,
   "id": "9ec194d4-6dfd-4305-b62a-258b5879a43b",
   "metadata": {},
   "outputs": [
    {
     "name": "stdout",
     "output_type": "stream",
     "text": [
      "tamaño de los datos de x\n",
      "(3, 4)\n",
      "\n",
      "tamaño de los de y\n",
      "(3,)\n"
     ]
    }
   ],
   "source": [
    "x = np.array(x,dtype=np.float32).reshape(m,n)\n",
    "y = np.array(y,dtype=np.float32).reshape(m)\n",
    "\n",
    "# Codigo Principal\n",
    "print('tamaño de los datos de x')\n",
    "print(x.shape)\n",
    "print('')\n",
    "print('tamaño de los de y')\n",
    "print(y.shape)"
   ]
  },
  {
   "cell_type": "code",
   "execution_count": 24,
   "id": "8a2fa5d9-7223-4691-a692-a1c6f5e68dd7",
   "metadata": {},
   "outputs": [
    {
     "name": "stdout",
     "output_type": "stream",
     "text": [
      "Datos escalados\n",
      "[[ 1.263115    1.3363062  -0.7071069   1.2247449 ]\n",
      " [-0.08073527 -0.26726115  1.4142135   0.        ]\n",
      " [-1.18238    -1.0690448  -0.7071069  -1.2247449 ]]\n"
     ]
    }
   ],
   "source": [
    "# Reescaldo de los datos x, media, desv = scaling_features(n,x):\n",
    "X_train = x.copy() \n",
    "Y_train = y.copy()\n",
    "\n",
    "X_train,media,desv = scaling_features(n,X_train)\n",
    "print('Datos escalados')\n",
    "print(X_train)"
   ]
  },
  {
   "cell_type": "markdown",
   "id": "c26d4dcb-e80c-447e-b702-0aaf4f70d439",
   "metadata": {},
   "source": [
    "# Graficar los datos obtenidos "
   ]
  },
  {
   "cell_type": "code",
   "execution_count": 26,
   "id": "0af37d56-fbe4-4a49-99a3-1a9508bff51a",
   "metadata": {},
   "outputs": [
    {
     "data": {
      "image/png": "[encoded data removed]",
      "text/plain": [
       "<Figure size 1200x300 with 4 Axes>"
      ]
     },
     "metadata": {},
     "output_type": "display_data"
    }
   ],
   "source": [
    "# grafica de los datos plot_datos(n,x,y):\n",
    "plot_datos(n,X_train,Y_train)"
   ]
  },
  {
   "cell_type": "markdown",
   "id": "23efffaf-1129-4825-8d9e-e77e5c8e4ad2",
   "metadata": {},
   "source": [
    "# Inicializacion de Parémetros"
   ]
  },
  {
   "cell_type": "code",
   "execution_count": 31,
   "id": "cafaeb4c-83bc-48db-94ee-c5adfa439e06",
   "metadata": {},
   "outputs": [
    {
     "name": "stdout",
     "output_type": "stream",
     "text": [
      "w: [0.97275279 0.00541527 0.67874355 0.67521857]\n",
      "b: [0.32408133]\n"
     ]
    }
   ],
   "source": [
    "# Crear los parametros w y b\n",
    "np.random.seed()\n",
    "w = np.random.rand(n)\n",
    "b = np.random.rand(1)\n",
    "\n",
    "# mostrar los parametros\n",
    "print(f'w: {w}')\n",
    "print(f'b: {b}')"
   ]
  },
  {
   "cell_type": "markdown",
   "id": "2b22a1e1-ebf0-43fc-a480-5d45d4c28dd4",
   "metadata": {},
   "source": [
    "# Definicion de hiperparámetros\n",
    "# Entrenamiento del gradiente"
   ]
  },
  {
   "cell_type": "code",
   "execution_count": 33,
   "id": "f8b808c1-26cc-437d-9202-152d3023a76b",
   "metadata": {},
   "outputs": [
    {
     "name": "stdout",
     "output_type": "stream",
     "text": [
      "Inicio del entrenamiento\n",
      "Iteration    0: Cost 4.93e+04  dj_dw: [-115.67 -119.3    41.63 -113.47], dj_db: -289.68   w: [ 3.29  2.39 -0.15  2.94], b:[6.]\n",
      "Iteration  100: Cost 7.44e+02  dj_dw: [-0.01 -0.48  3.56  0.19], dj_db: -38.42   w: [ 38.6   40.77 -27.61  36.75], b:[252.]\n",
      "Iteration  200: Cost 1.31e+01  dj_dw: [ 0.03 -0.03  0.46  0.06], dj_db: -5.09   w: [ 38.48  41.05 -30.61  36.45], b:[285.]\n",
      "Iteration  300: Cost 2.30e-01  dj_dw: [ 0.   -0.    0.06  0.01], dj_db: -0.68   w: [ 38.45  41.08 -31.    36.41], b:[289.]\n",
      "Iteration  400: Cost 4.05e-03  dj_dw: [ 0.   -0.    0.01  0.  ], dj_db: -0.09   w: [ 38.45  41.08 -31.05  36.4 ], b:[290.]\n",
      "Iteration  500: Cost 7.11e-05  dj_dw: [ 0. -0.  0.  0.], dj_db: -0.01   w: [ 38.45  41.08 -31.05  36.4 ], b:[290.]\n",
      "Iteration  600: Cost 1.25e-06  dj_dw: [ 0. -0.  0.  0.], dj_db: -0.0   w: [ 38.45  41.08 -31.05  36.4 ], b:[290.]\n",
      "Iteration  700: Cost 2.20e-08  dj_dw: [ 0. -0.  0.  0.], dj_db: -0.0   w: [ 38.45  41.08 -31.05  36.4 ], b:[290.]\n",
      "Iteration  800: Cost 3.87e-10  dj_dw: [ 0. -0.  0.  0.], dj_db: -0.0   w: [ 38.45  41.08 -31.05  36.4 ], b:[290.]\n",
      "Iteration  900: Cost 6.80e-12  dj_dw: [ 0. -0.  0.  0.], dj_db: -0.0   w: [ 38.45  41.08 -31.05  36.4 ], b:[290.]\n"
     ]
    }
   ],
   "source": [
    "# iteracion para la actualizacion de parametros \n",
    "# Entrenamiento \n",
    "z = 1000 # numero de iteraciones \n",
    "alpha = 2.0e-2 # coeficiente de entrenamiento \n",
    "# \n",
    "J = [] # historico del coste \n",
    "print('Inicio del entrenamiento')\n",
    "for i in range(z):\n",
    "  f_wb=forward(X_train,b,w) # forward propagation\n",
    "\n",
    "  d_dw,d_db=gradiente(m,n,f_wb,Y_train,X_train) # calculo de los gradientes\n",
    "\n",
    "  temp_w = w - alpha * d_dw # Actualizacion\n",
    "  temp_b = b - alpha * d_db\n",
    "\n",
    "  w = temp_w\n",
    "  b = temp_b\n",
    "\n",
    "  # Calculo del costo\n",
    "  if i<100000:\n",
    "    cost = cost_fuction(m,f_wb,Y_train)\n",
    "    J.append(cost)\n",
    "\n",
    "  ## print cost everi at\n",
    "  if i% math.ceil(z/10)==0:\n",
    "    print(f\"Iteration {i:4}: Cost {J[-1]:0.2e} \",\n",
    "                  f\"dj_dw: {np.round(d_dw,2)}, dj_db: {np.round(d_db,2)}  \",\n",
    "                  f\"w: {np.round(w,2)}, b:{np.round(b)}\")"
   ]
  },
  {
   "cell_type": "markdown",
   "id": "474066ff-dc07-4720-8488-ac185a55b196",
   "metadata": {},
   "source": [
    "# Monitoreo del Error"
   ]
  },
  {
   "cell_type": "code",
   "execution_count": 35,
   "id": "d26c137d-abdb-4e71-8257-51d6b438be10",
   "metadata": {},
   "outputs": [
    {
     "data": {
      "text/plain": [
       "(-2.0, 200.0)"
      ]
     },
     "execution_count": 35,
     "metadata": {},
     "output_type": "execute_result"
    },
    {
     "data": {
      "image/png": "[encoded data removed]",
      "text/plain": [
       "<Figure size 640x480 with 1 Axes>"
      ]
     },
     "metadata": {},
     "output_type": "display_data"
    }
   ],
   "source": [
    "plt.plot(J)\n",
    "plt.xlim([-2,200])"
   ]
  },
  {
   "cell_type": "code",
   "execution_count": 37,
   "id": "30bee4a0-f2ab-47fc-9021-fd7d42ca3be7",
   "metadata": {},
   "outputs": [
    {
     "name": "stdout",
     "output_type": "stream",
     "text": [
      "w:[ 38.44908658  41.08161838 -31.05349894  36.39828829]\n",
      "b:[289.99999617]\n"
     ]
    }
   ],
   "source": [
    "print(f'w:{w}')\n",
    "print(f'b:{b}')"
   ]
  },
  {
   "cell_type": "markdown",
   "id": "2845d3c9-c5bf-4962-9d0a-ee704436cc49",
   "metadata": {},
   "source": [
    "# Predicción"
   ]
  },
  {
   "cell_type": "code",
   "execution_count": 39,
   "id": "200225d2-e5f2-40ab-bd6a-cd0df9a3b4b0",
   "metadata": {},
   "outputs": [
    {
     "name": "stdout",
     "output_type": "stream",
     "text": [
      "[[459.99999949 460.        ]\n",
      " [231.99999957 232.        ]\n",
      " [177.99999948 178.        ]]\n"
     ]
    }
   ],
   "source": [
    "# X predicion escalar la variable \n",
    "#\n",
    "X_p = x.copy()\n",
    "\n",
    "for j in range(n):\n",
    "        X_p[:,j] = (x[:,j] - media[j])/desv[j]\n",
    "# \n",
    "f_predict = forward(X_p,b,w)\n",
    "\n",
    "# comparacion \n",
    "comparacion = np.c_[f_predict,y]\n",
    "\n",
    "# mostrar resultados \n",
    "print(comparacion)"
   ]
  },
  {
   "cell_type": "code",
   "execution_count": 41,
   "id": "d9a47450-6448-445a-afc1-d7d9eb99069f",
   "metadata": {},
   "outputs": [
    {
     "data": {
      "image/png": "[encoded data removed]",
      "text/plain": [
       "<Figure size 1200x300 with 4 Axes>"
      ]
     },
     "metadata": {},
     "output_type": "display_data"
    }
   ],
   "source": [
    "# Graficar \n",
    "fwb = x.copy()\n",
    "fwb.shape\n",
    "#\n",
    "fig,ax = plt.subplots(1,4,figsize=(12,3),sharey=True)\n",
    "# \n",
    "for j in range(n):\n",
    "    fwb[:,j] = w[j]*X_p[:,j] + b\n",
    "    # grafica\n",
    "    ax[j].plot(X_p[:,j],fwb[:,j])\n",
    "    ax[j].scatter(X_p[:,j],Y_train,s=30,c='r',marker='o')\n",
    "    ax[j].set_xlabel(f'x[{j}]')\n",
    "    ax[j].set_ylabel('y')\n",
    "plt.show()"
   ]
  },
  {
   "cell_type": "code",
   "execution_count": null,
   "id": "edb6fc3c-690a-4ad7-8493-a4d1c0a1d87b",
   "metadata": {},
   "outputs": [],
   "source": []
  }
 ],
 "metadata": {
  "kernelspec": {
   "display_name": "Python 3 (ipykernel)",
   "language": "python",
   "name": "python3"
  },
  "language_info": {
   "codemirror_mode": {
    "name": "ipython",
    "version": 3
   },
   "file_extension": ".py",
   "mimetype": "text/x-python",
   "name": "python",
   "nbconvert_exporter": "python",
   "pygments_lexer": "ipython3",
   "version": "3.12.4"
  }
 },
 "nbformat": 4,
 "nbformat_minor": 5
}
